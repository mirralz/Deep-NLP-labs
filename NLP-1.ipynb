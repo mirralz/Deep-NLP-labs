{
 "cells": [
  {
   "cell_type": "markdown",
   "id": "dc9682ad-c276-4e9b-acd3-f4c5941b1898",
   "metadata": {},
   "source": [
    "Канунникова Юлия МОАД 1 курс"
   ]
  },
  {
   "cell_type": "code",
   "execution_count": 1,
   "id": "47936e47-4fb2-4f66-95c0-245d0257b72c",
   "metadata": {},
   "outputs": [],
   "source": [
    "import pandas as pd\n",
    "import re\n",
    "from sklearn.utils import resample\n",
    "from pandarallel import pandarallel"
   ]
  },
  {
   "cell_type": "code",
   "execution_count": 2,
   "id": "f8923a7b-6485-4de5-a5f7-12ecd63d8eed",
   "metadata": {},
   "outputs": [],
   "source": [
    "df = pd.read_csv('dataset_hw1.csv', sep=\";\", engine=\"python\")"
   ]
  },
  {
   "cell_type": "code",
   "execution_count": 3,
   "id": "08eed23b-f3dd-4ae7-95f7-73524b73bccc",
   "metadata": {},
   "outputs": [],
   "source": [
    "# проверяем, есть ли дубликаты и удаляем их, если они есть\n",
    "if df.duplicated().sum() > 0:\n",
    "    df = df.drop_duplicates().reset_index(drop=True)"
   ]
  },
  {
   "cell_type": "code",
   "execution_count": 4,
   "id": "796d25d2-2f60-44e8-9edc-d38d0b5e8b7e",
   "metadata": {},
   "outputs": [
    {
     "name": "stdout",
     "output_type": "stream",
     "text": [
      "Score\n",
      "5    16969\n",
      "4     3710\n",
      "1     2448\n",
      "3     1991\n",
      "2     1409\n"
     ]
    }
   ],
   "source": [
    "# минимальный класс\n",
    "df[\"Score\"].value_counts()\n",
    "print(df[\"Score\"].value_counts().to_string())"
   ]
  },
  {
   "cell_type": "code",
   "execution_count": 5,
   "id": "a2207ef7-5cc2-4fce-b52b-77be40efa48b",
   "metadata": {},
   "outputs": [
    {
     "name": "stderr",
     "output_type": "stream",
     "text": [
      "/var/folders/g4/2d81vhys351_27jy9jgzdy340000gn/T/ipykernel_45743/1427650489.py:2: DeprecationWarning: DataFrameGroupBy.apply operated on the grouping columns. This behavior is deprecated, and in a future version of pandas the grouping columns will be excluded from the operation. Either pass `include_groups=False` to exclude the groupings or explicitly select the grouping columns after groupby to silence this warning.\n",
      "  df_balanced = df.groupby(\"Score\", group_keys=False).apply(\n"
     ]
    }
   ],
   "source": [
    "min_class_size = df[\"Score\"].value_counts().min()\n",
    "df_balanced = df.groupby(\"Score\", group_keys=False).apply(\n",
    "    lambda x: resample(x, n_samples=min_class_size, random_state=42)\n",
    ").reset_index(drop=True)"
   ]
  },
  {
   "cell_type": "code",
   "execution_count": 6,
   "id": "91d01ea4-1568-470b-8ce2-59dfe7fbff52",
   "metadata": {},
   "outputs": [
    {
     "name": "stdout",
     "output_type": "stream",
     "text": [
      "Score\n",
      "1    1409\n",
      "2    1409\n",
      "3    1409\n",
      "4    1409\n",
      "5    1409\n"
     ]
    }
   ],
   "source": [
    "df_balanced[\"Score\"].value_counts()\n",
    "print(df_balanced[\"Score\"].value_counts().to_string())"
   ]
  },
  {
   "cell_type": "code",
   "execution_count": 7,
   "id": "9deee5dc-68af-47b9-8e0a-4d5618b4fde1",
   "metadata": {},
   "outputs": [
    {
     "name": "stdout",
     "output_type": "stream",
     "text": [
      "INFO: Pandarallel will run on 8 workers.\n",
      "INFO: Pandarallel will use standard multiprocessing data transfer (pipe) to transfer data between the main process and workers.\n"
     ]
    },
    {
     "name": "stderr",
     "output_type": "stream",
     "text": [
      "[nltk_data] Downloading package stopwords to\n",
      "[nltk_data]     /Users/mirralz/nltk_data...\n",
      "[nltk_data]   Package stopwords is already up-to-date!\n"
     ]
    },
    {
     "data": {
      "application/vnd.jupyter.widget-view+json": {
       "model_id": "4406118fc4a94384b530c553b02b60cf",
       "version_major": 2,
       "version_minor": 0
      },
      "text/plain": [
       "VBox(children=(HBox(children=(IntProgress(value=0, description='0.00%', max=3316), Label(value='0 / 3316'))), …"
      ]
     },
     "metadata": {},
     "output_type": "display_data"
    }
   ],
   "source": [
    "import string\n",
    "from nltk.corpus import stopwords\n",
    "import nltk\n",
    "\n",
    "# загружаем стоп-слова\n",
    "nltk.download(\"stopwords\")\n",
    "stop_words = set(stopwords.words(\"english\"))\n",
    "\n",
    "# инициализируем pandarallel\n",
    "pandarallel.initialize(progress_bar=True)\n",
    "\n",
    "# функция очистки текста с дополнительными фильтрами\n",
    "def clean_text(text):\n",
    "    text = text.lower()  # приводим к нижнему регистру\n",
    "    text = re.sub(r'<br\\s*/?>', ' ', text, flags=re.IGNORECASE)  # удаляем html-теги <br>\n",
    "    text = re.sub(r'http\\S+', '', text)  # удаляем ссылки\n",
    "    text = re.sub(r'[\"?/|<>&;:\\=%!@#__$1234567890#—ツ►๑۩۞۩•*”˜˜”)*°(°*`,.-]', '', text)\n",
    "    text = re.sub(r'\\s+', ' ', text).strip()  # убираем лишние пробелы\n",
    "\n",
    "    # удаляем стоп-слова\n",
    "    words = text.split()\n",
    "    words = [word for word in words if word not in stop_words]\n",
    "    return \" \".join(words)\n",
    "\n",
    "# выполняем распараллеленный препроцессинг текста\n",
    "df[\"Cleaned_Text\"] = df[\"Text\"].parallel_apply(clean_text)"
   ]
  },
  {
   "cell_type": "code",
   "execution_count": 8,
   "id": "f3d20ba2-1a8a-4c68-a61e-161a0bcc6ea6",
   "metadata": {},
   "outputs": [
    {
     "name": "stdout",
     "output_type": "stream",
     "text": [
      "TF-IDF векторизация запущена...\n",
      "Количество документов: 26527\n",
      "Максимальное количество токенов (TF-IDF): 39739\n"
     ]
    }
   ],
   "source": [
    "from sklearn.feature_extraction.text import TfidfVectorizer\n",
    "\n",
    "print(\"TF-IDF векторизация запущена...\")\n",
    "\n",
    "# инициализируем TF-IDF векторизатор\n",
    "vectorizer = TfidfVectorizer()\n",
    "\n",
    "# обучаем TF-IDF на очищенных текстах\n",
    "tfidf_matrix = vectorizer.fit_transform(df[\"Cleaned_Text\"])\n",
    "\n",
    "# получаем количество токенов\n",
    "max_tokens = len(vectorizer.get_feature_names_out())\n",
    "\n",
    "print(f\"Количество документов: {tfidf_matrix.shape[0]}\")\n",
    "print(f\"Максимальное количество токенов (TF-IDF): {max_tokens}\")"
   ]
  },
  {
   "cell_type": "code",
   "execution_count": 9,
   "id": "789ad65a-6266-4710-9bb3-2f9f7ec641a7",
   "metadata": {},
   "outputs": [
    {
     "name": "stdout",
     "output_type": "stream",
     "text": [
      "Обучение BPEmb на 1000 токенах...\n",
      "Токенизатор сохранён в bpemb_tokenizer_1000.pkl\n",
      "Обучение BPEmb на 5000 токенах...\n",
      "Токенизатор сохранён в bpemb_tokenizer_5000.pkl\n",
      "Обучение BPEmb на 10000 токенах...\n",
      "Токенизатор сохранён в bpemb_tokenizer_10000.pkl\n",
      "Обучение BPEmb на 20000 токенах...\n",
      "BPEmb fallback: en from vocab size 20000 to 200000\n",
      "Токенизатор сохранён в bpemb_tokenizer_20000.pkl\n",
      "Обучение BPEmb на 39739 токенах...\n",
      "BPEmb fallback: en from vocab size 39739 to 200000\n",
      "Токенизатор сохранён в bpemb_tokenizer_39739.pkl\n",
      "Обучение завершено.\n"
     ]
    }
   ],
   "source": [
    "from bpemb import BPEmb\n",
    "import pickle\n",
    "# список размеров словаря (количество токенов), на которых будем обучать токенизатор\n",
    "vocab_sizes = [1000, 5000, 10000, 20000, max_tokens]\n",
    "\n",
    "# обучаем и сохраняем токенизаторы для каждого vocab_size\n",
    "for vocab_size in vocab_sizes:\n",
    "    print(f\"Обучение BPEmb на {vocab_size} токенах...\")\n",
    "\n",
    "    # создаем и обучаем BPEmb\n",
    "    tokenizer = BPEmb(lang=\"en\", vs=vocab_size)\n",
    "\n",
    "    # сохраняем обученный токенизатор\n",
    "    model_filename = f\"bpemb_tokenizer_{vocab_size}.pkl\"\n",
    "    with open(model_filename, \"wb\") as f:\n",
    "        pickle.dump(tokenizer, f)\n",
    "\n",
    "    print(f\"Токенизатор сохранён в {model_filename}\")\n",
    "\n",
    "print(\"Обучение завершено.\")"
   ]
  },
  {
   "cell_type": "code",
   "execution_count": 10,
   "id": "34c3310d-4e5e-4002-bfd3-aa6aa86922e2",
   "metadata": {},
   "outputs": [
    {
     "name": "stdout",
     "output_type": "stream",
     "text": [
      "Testing BPEmb with 1000 tokens...\n",
      "\n",
      "GaussianNB()\n",
      "              precision    recall  f1-score   support\n",
      "\n",
      "           1       0.14      0.06      0.08       472\n",
      "           2       0.06      0.73      0.11       269\n",
      "           3       0.08      0.28      0.12       365\n",
      "           4       0.11      0.03      0.04       763\n",
      "           5       0.76      0.02      0.04      3437\n",
      "\n",
      "    accuracy                           0.08      5306\n",
      "   macro avg       0.23      0.22      0.08      5306\n",
      "weighted avg       0.53      0.08      0.05      5306\n",
      "\n",
      "-------------------------------------\n",
      "Confusion matrix:\n",
      "[[  28  337   97    6    4]\n",
      " [  10  196   54    4    5]\n",
      " [  14  234  104   10    3]\n",
      " [  27  514  193   20    9]\n",
      " [ 124 2174  935  139   65]]\n",
      "\n",
      "Time of execution (sec): 0.1004\n",
      "\n",
      "================================================================================\n",
      "Testing BPEmb with 5000 tokens...\n",
      "\n",
      "GaussianNB()\n",
      "              precision    recall  f1-score   support\n",
      "\n",
      "           1       0.11      0.11      0.11       472\n",
      "           2       0.05      0.61      0.10       269\n",
      "           3       0.07      0.19      0.10       365\n",
      "           4       0.15      0.08      0.10       763\n",
      "           5       0.66      0.06      0.11      3437\n",
      "\n",
      "    accuracy                           0.10      5306\n",
      "   macro avg       0.21      0.21      0.10      5306\n",
      "weighted avg       0.47      0.10      0.11      5306\n",
      "\n",
      "-------------------------------------\n",
      "Confusion matrix:\n",
      "[[  51  289   74   30   28]\n",
      " [  27  165   47   20   10]\n",
      " [  27  225   69   21   23]\n",
      " [  56  447  155   61   44]\n",
      " [ 297 1993  659  282  206]]\n",
      "\n",
      "Time of execution (sec): 1.3234\n",
      "\n",
      "================================================================================\n",
      "Testing BPEmb with 10000 tokens...\n",
      "\n",
      "GaussianNB()\n",
      "              precision    recall  f1-score   support\n",
      "\n",
      "           1       0.13      0.14      0.14       472\n",
      "           2       0.05      0.44      0.08       269\n",
      "           3       0.07      0.19      0.10       365\n",
      "           4       0.14      0.10      0.12       763\n",
      "           5       0.66      0.14      0.23      3437\n",
      "\n",
      "    accuracy                           0.15      5306\n",
      "   macro avg       0.21      0.20      0.13      5306\n",
      "weighted avg       0.46      0.15      0.19      5306\n",
      "\n",
      "-------------------------------------\n",
      "Confusion matrix:\n",
      "[[  67  230   77   34   64]\n",
      " [  32  118   51   34   34]\n",
      " [  30  186   68   33   48]\n",
      " [  61  367  160   76   99]\n",
      " [ 327 1645  627  367  471]]\n",
      "\n",
      "Time of execution (sec): 3.0486\n",
      "\n",
      "================================================================================\n",
      "Testing BPEmb with 20000 tokens...\n",
      "\n",
      "GaussianNB()\n",
      "              precision    recall  f1-score   support\n",
      "\n",
      "           1       0.15      0.14      0.14       472\n",
      "           2       0.04      0.19      0.07       269\n",
      "           3       0.06      0.14      0.09       365\n",
      "           4       0.16      0.16      0.16       763\n",
      "           5       0.66      0.38      0.48      3437\n",
      "\n",
      "    accuracy                           0.30      5306\n",
      "   macro avg       0.21      0.20      0.19      5306\n",
      "weighted avg       0.47      0.30      0.36      5306\n",
      "\n",
      "-------------------------------------\n",
      "Confusion matrix:\n",
      "[[  66  133   57   53  163]\n",
      " [  33   52   45   33  106]\n",
      " [  37   95   52   42  139]\n",
      " [  55  181  140  120  267]\n",
      " [ 254  849  537  499 1298]]\n",
      "\n",
      "Time of execution (sec): 15.1949\n",
      "\n",
      "================================================================================\n",
      "Testing BPEmb with 39739 tokens...\n",
      "\n",
      "GaussianNB()\n",
      "              precision    recall  f1-score   support\n",
      "\n",
      "           1       0.15      0.14      0.14       472\n",
      "           2       0.04      0.19      0.07       269\n",
      "           3       0.06      0.14      0.09       365\n",
      "           4       0.16      0.16      0.16       763\n",
      "           5       0.66      0.38      0.48      3437\n",
      "\n",
      "    accuracy                           0.30      5306\n",
      "   macro avg       0.21      0.20      0.19      5306\n",
      "weighted avg       0.47      0.30      0.36      5306\n",
      "\n",
      "-------------------------------------\n",
      "Confusion matrix:\n",
      "[[  66  133   57   53  163]\n",
      " [  33   52   45   33  106]\n",
      " [  37   95   52   42  139]\n",
      " [  55  181  140  120  267]\n",
      " [ 254  849  537  499 1298]]\n",
      "\n",
      "Time of execution (sec): 77.7564\n",
      "\n",
      "================================================================================\n",
      "Testing completed.\n"
     ]
    },
    {
     "data": {
      "image/png": "[encoded data removed]",
      "text/plain": [
       "<Figure size 800x500 with 1 Axes>"
      ]
     },
     "metadata": {},
     "output_type": "display_data"
    }
   ],
   "source": [
    "from sklearn.naive_bayes import GaussianNB\n",
    "from sklearn.feature_extraction.text import TfidfVectorizer\n",
    "from sklearn.model_selection import train_test_split\n",
    "from sklearn import metrics\n",
    "import pickle\n",
    "import time\n",
    "import matplotlib.pyplot as plt\n",
    "\n",
    "# list of vocab sizes\n",
    "vocab_sizes = [1000, 5000, 10000, 20000, 39739]\n",
    "accuracies = []  # список для хранения точности\n",
    "\n",
    "for vocab_size in vocab_sizes:\n",
    "    print(f\"Testing BPEmb with {vocab_size} tokens...\\n\")\n",
    "\n",
    "    # load pre-trained tokenizer\n",
    "    model_filename = f\"bpemb_tokenizer_{vocab_size}.pkl\"\n",
    "    with open(model_filename, \"rb\") as f:\n",
    "        tokenizer = pickle.load(f)\n",
    "\n",
    "    # tokenize cleaned text\n",
    "    df[\"Tokenized_Text\"] = df[\"Cleaned_Text\"].apply(lambda x: \" \".join(tokenizer.encode(x)))\n",
    "\n",
    "    # create TF-IDF vectorization\n",
    "    vectorizer = TfidfVectorizer()\n",
    "    X = vectorizer.fit_transform(df[\"Tokenized_Text\"])\n",
    "\n",
    "    # target variable (classes)\n",
    "    y = df[\"Score\"]\n",
    "\n",
    "    # split data into train/test\n",
    "    X_train, X_test, y_train, y_test = train_test_split(X.toarray(), y, test_size=0.2, random_state=42)\n",
    "\n",
    "    # define model\n",
    "    model = GaussianNB()\n",
    "\n",
    "    start_time = time.time()\n",
    "    model.fit(X_train, y_train)\n",
    "    train_time = time.time() - start_time\n",
    "\n",
    "    # make predictions\n",
    "    y_pred = model.predict(X_test)\n",
    "\n",
    "    # evaluate model\n",
    "    print(model)  # print model details\n",
    "    print(metrics.classification_report(y_test, y_pred))\n",
    "    print(\"-------------------------------------\")\n",
    "    print(\"Confusion matrix:\")\n",
    "    print(metrics.confusion_matrix(y_test, y_pred))\n",
    "    print(f\"\\nTime of execution (sec): {train_time:.4f}\\n\")\n",
    "    print(\"=\" * 80)  # separator for readability\n",
    "\n",
    "    # store accuracy for plotting\n",
    "    accuracy = metrics.accuracy_score(y_test, y_pred)\n",
    "    accuracies.append(accuracy)\n",
    "\n",
    "print(\"Testing completed.\")\n",
    "\n",
    "# plot accuracy vs vocabulary size\n",
    "plt.figure(figsize=(8, 5))\n",
    "plt.plot(vocab_sizes, accuracies, marker=\"o\", linestyle=\"-\", linewidth=2)\n",
    "\n",
    "# график подписей\n",
    "plt.xlabel(\"Vocabulary Size\")\n",
    "plt.ylabel(\"Accuracy\")\n",
    "plt.title(\"Naive Bayes Accuracy vs. Vocabulary Size (BPEmb)\")\n",
    "plt.grid(True)\n",
    "plt.xticks(vocab_sizes)\n",
    "plt.ylim(0, 1)  # ограничиваем точность от 0 до 100%\n",
    "\n",
    "# показываем график\n",
    "plt.show()"
   ]
  }
 ],
 "metadata": {
  "kernelspec": {
   "display_name": "Python 3 (ipykernel)",
   "language": "python",
   "name": "python3"
  },
  "language_info": {
   "codemirror_mode": {
    "name": "ipython",
    "version": 3
   },
   "file_extension": ".py",
   "mimetype": "text/x-python",
   "name": "python",
   "nbconvert_exporter": "python",
   "pygments_lexer": "ipython3",
   "version": "3.12.4"
  }
 },
 "nbformat": 4,
 "nbformat_minor": 5
}
