{
 "cells": [
  {
   "cell_type": "code",
   "execution_count": 6,
   "id": "cfbcd61e-162c-4913-b5de-8de095597100",
   "metadata": {},
   "outputs": [],
   "source": [
    "!pip install torchtext --quiet"
   ]
  },
  {
   "cell_type": "code",
   "execution_count": 1,
   "id": "1c402e4b-4749-47ce-8203-4f940d80dc4e",
   "metadata": {},
   "outputs": [],
   "source": [
    "import pandas as pd\n",
    "import numpy as np\n",
    "import torch\n",
    "import torch.nn as nn\n",
    "from torch.utils.data import Dataset, DataLoader, WeightedRandomSampler\n",
    "from sklearn.model_selection import train_test_split\n",
    "from sklearn.preprocessing import LabelEncoder\n",
    "from sklearn.metrics import f1_score, classification_report\n",
    "from collections import Counter\n",
    "from torch.nn.utils.rnn import pad_sequence\n",
    "from torchtext.vocab import build_vocab_from_iterator, GloVe\n",
    "from torchtext.data.utils import get_tokenizer\n",
    "from tqdm import tqdm\n",
    "\n",
    "# Device setup\n",
    "device = torch.device(\"cuda\" if torch.cuda.is_available() else \"cpu\")\n"
   ]
  },
  {
   "cell_type": "code",
   "execution_count": 2,
   "id": "f07940a4-38cd-4216-84ab-2baa6c473a73",
   "metadata": {},
   "outputs": [
    {
     "name": "stdout",
     "output_type": "stream",
     "text": [
      "Before balancing:\n",
      " label\n",
      "2    9050\n",
      "5    6841\n",
      "4    4459\n",
      "0    1570\n",
      "3     783\n",
      "1     778\n",
      "Name: count, dtype: int64\n"
     ]
    }
   ],
   "source": [
    "# Re-load and Rebalance Dataset\n",
    "df = pd.read_csv(\"Fake.csv\")\n",
    "df = df[['text', 'subject']].dropna()\n",
    "\n",
    "# Re-encode labels\n",
    "label_encoder = LabelEncoder()\n",
    "df['label'] = label_encoder.fit_transform(df['subject'])\n",
    "\n",
    "# Print class counts\n",
    "class_counts = df['label'].value_counts()\n",
    "print(\"Before balancing:\\n\", class_counts)\n",
    "\n",
    "# Balance: undersample to size of the smallest class\n",
    "min_class_size = class_counts.min()\n",
    "\n",
    "balanced_df = pd.concat([\n",
    "    df[df['label'] == label].sample(min_class_size, random_state=42)\n",
    "    for label in class_counts.index\n",
    "])\n",
    "\n",
    "balanced_df = balanced_df.sample(frac=1, random_state=42)  # Shuffle\n",
    "\n",
    "# Split train/test\n",
    "X_train, X_test, y_train, y_test = train_test_split(\n",
    "    balanced_df['text'], balanced_df['label'],\n",
    "    test_size=0.2, stratify=balanced_df['label'], random_state=42\n",
    ")"
   ]
  },
  {
   "cell_type": "code",
   "execution_count": 3,
   "id": "f427606f-98b1-427c-a158-c36f5aea2875",
   "metadata": {},
   "outputs": [],
   "source": [
    "# Tokenizer and Vocab\n",
    "tokenizer = get_tokenizer(\"basic_english\")\n",
    "def yield_tokens(data):\n",
    "    for text in data:\n",
    "        yield tokenizer(text)\n",
    "\n",
    "vocab = build_vocab_from_iterator(yield_tokens(X_train), specials=[\"<pad>\", \"<unk>\"])\n",
    "vocab.set_default_index(vocab[\"<unk>\"])\n",
    "PAD_IDX = vocab[\"<pad>\"]"
   ]
  },
  {
   "cell_type": "code",
   "execution_count": 4,
   "id": "4f9daabf-4261-4ace-9f0c-34c9f149f0a8",
   "metadata": {},
   "outputs": [],
   "source": [
    "# GloVe Embeddings\n",
    "embedding_dim = 200\n",
    "glove = GloVe(name='6B', dim=embedding_dim)\n",
    "embedding_matrix = torch.zeros(len(vocab), embedding_dim)\n",
    "for i, token in enumerate(vocab.get_itos()):\n",
    "    embedding_matrix[i] = glove[token] if token in glove.stoi else torch.randn(embedding_dim)\n"
   ]
  },
  {
   "cell_type": "code",
   "execution_count": 6,
   "id": "4fb2f8f2-15ab-4f78-a0c4-085085ad82aa",
   "metadata": {},
   "outputs": [],
   "source": [
    "# Dataset Class\n",
    "class TextDataset(Dataset):\n",
    "    def __init__(self, texts, labels):\n",
    "        self.texts = [torch.tensor(vocab(tokenizer(t)), dtype=torch.long) for t in texts]\n",
    "        self.labels = torch.tensor(labels, dtype=torch.long)\n",
    "    def __len__(self): return len(self.labels)\n",
    "    def __getitem__(self, idx): return self.texts[idx], self.labels[idx]\n",
    "\n",
    "def collate_batch(batch):\n",
    "    texts, labels = zip(*batch)\n",
    "    texts = pad_sequence(texts, batch_first=True, padding_value=PAD_IDX)\n",
    "    return texts.to(device), torch.tensor(labels, dtype=torch.long).to(device)\n"
   ]
  },
  {
   "cell_type": "code",
   "execution_count": 8,
   "id": "d8c2d696-973b-4720-a296-529552130627",
   "metadata": {},
   "outputs": [],
   "source": [
    "train_dataset = TextDataset(X_train.tolist(), y_train.tolist())\n",
    "test_dataset = TextDataset(X_test.tolist(), y_test.tolist())\n",
    "\n",
    "label_counts = Counter(y_train.tolist())\n",
    "weights = [1.0 / label_counts[label] for label in y_train.tolist()]\n",
    "sampler = WeightedRandomSampler(weights, len(weights), replacement=True)\n",
    "\n",
    "train_loader = DataLoader(train_dataset, batch_size=32, sampler=sampler, collate_fn=collate_batch)\n",
    "test_loader = DataLoader(test_dataset, batch_size=32, shuffle=False, collate_fn=collate_batch)"
   ]
  },
  {
   "cell_type": "code",
   "execution_count": 9,
   "id": "bdc86a9c-b4b1-4745-a173-be7fefb0f479",
   "metadata": {},
   "outputs": [],
   "source": [
    "# MLP Model\n",
    "class MLPClassifier(nn.Module):\n",
    "    def __init__(self, vocab_size, embed_dim, num_classes, embedding_weights):\n",
    "        super().__init__()\n",
    "        self.embedding = nn.Embedding.from_pretrained(embedding_weights, freeze=False, padding_idx=PAD_IDX)\n",
    "        self.pool = nn.AdaptiveAvgPool1d(1)\n",
    "        self.fc1 = nn.Linear(embed_dim, 256)\n",
    "        self.bn1 = nn.BatchNorm1d(256)\n",
    "        self.drop1 = nn.Dropout(0.3)\n",
    "        self.fc2 = nn.Linear(256, 128)\n",
    "        self.bn2 = nn.BatchNorm1d(128)\n",
    "        self.drop2 = nn.Dropout(0.3)\n",
    "        self.fc3 = nn.Linear(128, num_classes)\n",
    "\n",
    "    def forward(self, x):\n",
    "        x = self.embedding(x).permute(0, 2, 1)\n",
    "        x = self.pool(x).squeeze(-1)\n",
    "        x = torch.relu(self.bn1(self.fc1(x)))\n",
    "        x = self.drop1(x)\n",
    "        x = torch.relu(self.bn2(self.fc2(x)))\n",
    "        x = self.drop2(x)\n",
    "        return self.fc3(x)\n"
   ]
  },
  {
   "cell_type": "code",
   "execution_count": 10,
   "id": "b0aa6f13-6ed9-4610-952e-06a55de3c1e5",
   "metadata": {},
   "outputs": [],
   "source": [
    "def train_model(model, name, total_epochs=20):\n",
    "    model.to(device)\n",
    "    optimizer = torch.optim.Adam(model.parameters(), lr=1e-3)\n",
    "    criterion = nn.CrossEntropyLoss()\n",
    "    best_f1 = 0\n",
    "\n",
    "    for epoch in range(total_epochs):\n",
    "        model.train()\n",
    "        for X_batch, y_batch in tqdm(train_loader, desc=f\"Epoch {epoch+1}\"):\n",
    "            optimizer.zero_grad()\n",
    "            preds = model(X_batch)\n",
    "            loss = criterion(preds, y_batch)\n",
    "            loss.backward()\n",
    "            optimizer.step()\n",
    "\n",
    "        # Evaluation\n",
    "        model.eval()\n",
    "        all_preds, all_labels = [], []\n",
    "        with torch.no_grad():\n",
    "            for X_batch, y_batch in test_loader:\n",
    "                preds = torch.argmax(model(X_batch), dim=1)\n",
    "                all_preds.extend(preds.cpu().numpy())\n",
    "                all_labels.extend(y_batch.cpu().numpy())\n",
    "\n",
    "        f1 = f1_score(all_labels, all_preds, average='weighted')\n",
    "        print(f\"Epoch {epoch+1} F1: {f1:.4f}\")\n",
    "\n",
    "        if f1 > best_f1:\n",
    "            best_f1 = f1\n",
    "            torch.save(model.state_dict(), f\"{name}_best.pt\")\n",
    "\n",
    "        if f1 >= 0.8:\n",
    "            print(\"Target F1 reached. Stopping.\")\n",
    "            break\n",
    "\n",
    "    print(f\"Best F1: {best_f1:.4f}\")\n"
   ]
  },
  {
   "cell_type": "code",
   "execution_count": 13,
   "id": "e88b0b11-7f7e-4046-a8df-0fc32a19c3e1",
   "metadata": {
    "scrolled": true
   },
   "outputs": [
    {
     "name": "stderr",
     "output_type": "stream",
     "text": [
      "Epoch 1: 100%|████████████████████████████████| 117/117 [00:15<00:00,  7.36it/s]\n"
     ]
    },
    {
     "name": "stdout",
     "output_type": "stream",
     "text": [
      "Epoch 1 F1: 0.1389\n"
     ]
    },
    {
     "name": "stderr",
     "output_type": "stream",
     "text": [
      "Epoch 2: 100%|████████████████████████████████| 117/117 [00:14<00:00,  7.97it/s]\n"
     ]
    },
    {
     "name": "stdout",
     "output_type": "stream",
     "text": [
      "Epoch 2 F1: 0.0539\n"
     ]
    },
    {
     "name": "stderr",
     "output_type": "stream",
     "text": [
      "Epoch 3: 100%|████████████████████████████████| 117/117 [00:14<00:00,  8.35it/s]\n"
     ]
    },
    {
     "name": "stdout",
     "output_type": "stream",
     "text": [
      "Epoch 3 F1: 0.1917\n"
     ]
    },
    {
     "name": "stderr",
     "output_type": "stream",
     "text": [
      "Epoch 4: 100%|████████████████████████████████| 117/117 [00:06<00:00, 17.70it/s]\n"
     ]
    },
    {
     "name": "stdout",
     "output_type": "stream",
     "text": [
      "Epoch 4 F1: 0.2397\n"
     ]
    },
    {
     "name": "stderr",
     "output_type": "stream",
     "text": [
      "Epoch 5: 100%|████████████████████████████████| 117/117 [00:07<00:00, 16.64it/s]\n"
     ]
    },
    {
     "name": "stdout",
     "output_type": "stream",
     "text": [
      "Epoch 5 F1: 0.1798\n"
     ]
    },
    {
     "name": "stderr",
     "output_type": "stream",
     "text": [
      "Epoch 6: 100%|████████████████████████████████| 117/117 [00:06<00:00, 18.12it/s]\n"
     ]
    },
    {
     "name": "stdout",
     "output_type": "stream",
     "text": [
      "Epoch 6 F1: 0.3044\n"
     ]
    },
    {
     "name": "stderr",
     "output_type": "stream",
     "text": [
      "Epoch 7: 100%|████████████████████████████████| 117/117 [00:07<00:00, 16.16it/s]\n"
     ]
    },
    {
     "name": "stdout",
     "output_type": "stream",
     "text": [
      "Epoch 7 F1: 0.2928\n"
     ]
    },
    {
     "name": "stderr",
     "output_type": "stream",
     "text": [
      "Epoch 8: 100%|████████████████████████████████| 117/117 [00:05<00:00, 20.13it/s]\n"
     ]
    },
    {
     "name": "stdout",
     "output_type": "stream",
     "text": [
      "Epoch 8 F1: 0.3322\n"
     ]
    },
    {
     "name": "stderr",
     "output_type": "stream",
     "text": [
      "Epoch 9: 100%|████████████████████████████████| 117/117 [00:05<00:00, 20.99it/s]\n"
     ]
    },
    {
     "name": "stdout",
     "output_type": "stream",
     "text": [
      "Epoch 9 F1: 0.3296\n"
     ]
    },
    {
     "name": "stderr",
     "output_type": "stream",
     "text": [
      "Epoch 10: 100%|███████████████████████████████| 117/117 [00:06<00:00, 19.17it/s]\n"
     ]
    },
    {
     "name": "stdout",
     "output_type": "stream",
     "text": [
      "Epoch 10 F1: 0.2493\n"
     ]
    },
    {
     "name": "stderr",
     "output_type": "stream",
     "text": [
      "Epoch 11: 100%|███████████████████████████████| 117/117 [00:05<00:00, 19.76it/s]\n"
     ]
    },
    {
     "name": "stdout",
     "output_type": "stream",
     "text": [
      "Epoch 11 F1: 0.3178\n"
     ]
    },
    {
     "name": "stderr",
     "output_type": "stream",
     "text": [
      "Epoch 12: 100%|███████████████████████████████| 117/117 [00:06<00:00, 17.29it/s]\n"
     ]
    },
    {
     "name": "stdout",
     "output_type": "stream",
     "text": [
      "Epoch 12 F1: 0.4238\n"
     ]
    },
    {
     "name": "stderr",
     "output_type": "stream",
     "text": [
      "Epoch 13: 100%|███████████████████████████████| 117/117 [00:06<00:00, 18.46it/s]\n"
     ]
    },
    {
     "name": "stdout",
     "output_type": "stream",
     "text": [
      "Epoch 13 F1: 0.2197\n"
     ]
    },
    {
     "name": "stderr",
     "output_type": "stream",
     "text": [
      "Epoch 14: 100%|███████████████████████████████| 117/117 [00:06<00:00, 19.00it/s]\n"
     ]
    },
    {
     "name": "stdout",
     "output_type": "stream",
     "text": [
      "Epoch 14 F1: 0.3828\n"
     ]
    },
    {
     "name": "stderr",
     "output_type": "stream",
     "text": [
      "Epoch 15: 100%|███████████████████████████████| 117/117 [00:06<00:00, 17.02it/s]\n"
     ]
    },
    {
     "name": "stdout",
     "output_type": "stream",
     "text": [
      "Epoch 15 F1: 0.3033\n"
     ]
    },
    {
     "name": "stderr",
     "output_type": "stream",
     "text": [
      "Epoch 16: 100%|███████████████████████████████| 117/117 [00:07<00:00, 16.46it/s]\n"
     ]
    },
    {
     "name": "stdout",
     "output_type": "stream",
     "text": [
      "Epoch 16 F1: 0.3123\n"
     ]
    },
    {
     "name": "stderr",
     "output_type": "stream",
     "text": [
      "Epoch 17: 100%|███████████████████████████████| 117/117 [00:05<00:00, 19.80it/s]\n"
     ]
    },
    {
     "name": "stdout",
     "output_type": "stream",
     "text": [
      "Epoch 17 F1: 0.3415\n"
     ]
    },
    {
     "name": "stderr",
     "output_type": "stream",
     "text": [
      "Epoch 18: 100%|███████████████████████████████| 117/117 [00:06<00:00, 17.20it/s]\n"
     ]
    },
    {
     "name": "stdout",
     "output_type": "stream",
     "text": [
      "Epoch 18 F1: 0.1567\n"
     ]
    },
    {
     "name": "stderr",
     "output_type": "stream",
     "text": [
      "Epoch 19: 100%|███████████████████████████████| 117/117 [00:07<00:00, 15.95it/s]\n"
     ]
    },
    {
     "name": "stdout",
     "output_type": "stream",
     "text": [
      "Epoch 19 F1: 0.1603\n"
     ]
    },
    {
     "name": "stderr",
     "output_type": "stream",
     "text": [
      "Epoch 20: 100%|███████████████████████████████| 117/117 [00:06<00:00, 18.43it/s]\n"
     ]
    },
    {
     "name": "stdout",
     "output_type": "stream",
     "text": [
      "Epoch 20 F1: 0.2451\n",
      "Best F1: 0.4238\n"
     ]
    }
   ],
   "source": [
    "model = MLPClassifier(len(vocab), embedding_dim, num_classes, embedding_matrix)\n",
    "history_balanced = train_model(model, \"mlp_balanced\", total_epochs=20)"
   ]
  },
  {
   "cell_type": "code",
   "execution_count": null,
   "id": "f09503d7-8031-4712-831e-8bbdd861c875",
   "metadata": {},
   "outputs": [],
   "source": []
  },
  {
   "cell_type": "code",
   "execution_count": null,
   "id": "bed493ef-90c1-4a97-9cc2-69a0d4c21c88",
   "metadata": {},
   "outputs": [],
   "source": []
  },
  {
   "cell_type": "code",
   "execution_count": 16,
   "id": "cfe28f17-e7cf-41dd-8924-8bcbc3635e59",
   "metadata": {},
   "outputs": [],
   "source": [
    "from sklearn.metrics import classification_report, f1_score\n",
    "\n",
    "def evaluate_model(model, name):\n",
    "    model.load_state_dict(torch.load(f\"{name}_best.pt\"))\n",
    "    model.eval()\n",
    "    all_preds, all_labels = [], []\n",
    "\n",
    "    with torch.no_grad():\n",
    "        for X_batch, y_batch in test_loader:\n",
    "            output = model(X_batch)\n",
    "            preds = torch.argmax(output, dim=1)\n",
    "            all_preds.extend(preds.cpu().numpy())\n",
    "            all_labels.extend(y_batch.cpu().numpy())\n",
    "\n",
    "    print(classification_report(all_labels, all_preds, target_names=label_encoder.classes_))\n",
    "    print(\"Weighted F1-score:\", f1_score(all_labels, all_preds, average='weighted'))"
   ]
  },
  {
   "cell_type": "code",
   "execution_count": 19,
   "id": "d72f0f31-43f3-4d67-9468-0cd6ad50bb64",
   "metadata": {},
   "outputs": [
    {
     "name": "stdout",
     "output_type": "stream",
     "text": [
      "                 precision    recall  f1-score   support\n",
      "\n",
      "Government News       0.46      0.23      0.30       155\n",
      "    Middle-east       0.50      0.66      0.57       155\n",
      "           News       0.92      0.58      0.71       156\n",
      "        US_News       0.51      0.18      0.27       156\n",
      "      left-news       0.30      0.47      0.36       156\n",
      "       politics       0.27      0.43      0.33       156\n",
      "\n",
      "       accuracy                           0.43       934\n",
      "      macro avg       0.49      0.43      0.42       934\n",
      "   weighted avg       0.49      0.43      0.42       934\n",
      "\n",
      "Weighted F1-score: 0.4237896688394459\n"
     ]
    }
   ],
   "source": [
    "evaluate_model(model, \"mlp_balanced\")"
   ]
  },
  {
   "cell_type": "code",
   "execution_count": 20,
   "id": "1931860b-2c31-4ae1-bb31-e8cbeee2c10f",
   "metadata": {},
   "outputs": [],
   "source": [
    "# CNN Classifier\n",
    "class CNNClassifier(nn.Module):\n",
    "    def __init__(self, vocab_size, embed_dim, num_classes, embedding_weights):\n",
    "        super().__init__()\n",
    "        self.embedding = nn.Embedding.from_pretrained(embedding_weights, freeze=False, padding_idx=PAD_IDX)\n",
    "        self.conv1 = nn.Conv1d(in_channels=embed_dim, out_channels=128, kernel_size=5, stride=1)\n",
    "        self.bn1 = nn.BatchNorm1d(128)\n",
    "        self.pool = nn.AdaptiveMaxPool1d(1)\n",
    "        self.dropout = nn.Dropout(0.3)\n",
    "        self.fc = nn.Linear(128, num_classes)\n",
    "\n",
    "    def forward(self, x):\n",
    "        x = self.embedding(x)  # [B, T, E]\n",
    "        x = x.permute(0, 2, 1)  # [B, E, T]\n",
    "        x = torch.relu(self.bn1(self.conv1(x)))  # [B, C, T']\n",
    "        x = self.pool(x).squeeze(-1)  # [B, C]\n",
    "        x = self.dropout(x)\n",
    "        return self.fc(x)"
   ]
  },
  {
   "cell_type": "code",
   "execution_count": 21,
   "id": "c2537adb-6ce9-4f0a-99ee-316979e8f8f1",
   "metadata": {},
   "outputs": [],
   "source": [
    "cnn = CNNClassifier(len(vocab), embedding_dim, num_classes, embedding_matrix)"
   ]
  },
  {
   "cell_type": "code",
   "execution_count": 22,
   "id": "2c01daf9-4498-4e68-9563-63bb95938cf1",
   "metadata": {},
   "outputs": [
    {
     "name": "stderr",
     "output_type": "stream",
     "text": [
      "Epoch 1: 100%|████████████████████████████████| 117/117 [05:26<00:00,  2.79s/it]\n"
     ]
    },
    {
     "name": "stdout",
     "output_type": "stream",
     "text": [
      "Epoch 1 F1: 0.3836\n"
     ]
    },
    {
     "name": "stderr",
     "output_type": "stream",
     "text": [
      "Epoch 2: 100%|████████████████████████████████| 117/117 [04:44<00:00,  2.43s/it]\n"
     ]
    },
    {
     "name": "stdout",
     "output_type": "stream",
     "text": [
      "Epoch 2 F1: 0.4109\n"
     ]
    },
    {
     "name": "stderr",
     "output_type": "stream",
     "text": [
      "Epoch 3: 100%|████████████████████████████████| 117/117 [04:39<00:00,  2.39s/it]\n"
     ]
    },
    {
     "name": "stdout",
     "output_type": "stream",
     "text": [
      "Epoch 3 F1: 0.4230\n"
     ]
    },
    {
     "name": "stderr",
     "output_type": "stream",
     "text": [
      "Epoch 4: 100%|████████████████████████████████| 117/117 [05:19<00:00,  2.73s/it]\n"
     ]
    },
    {
     "name": "stdout",
     "output_type": "stream",
     "text": [
      "Epoch 4 F1: 0.3837\n"
     ]
    },
    {
     "name": "stderr",
     "output_type": "stream",
     "text": [
      "Epoch 5: 100%|████████████████████████████████| 117/117 [04:45<00:00,  2.44s/it]\n"
     ]
    },
    {
     "name": "stdout",
     "output_type": "stream",
     "text": [
      "Epoch 5 F1: 0.4294\n"
     ]
    },
    {
     "name": "stderr",
     "output_type": "stream",
     "text": [
      "Epoch 6: 100%|████████████████████████████████| 117/117 [04:27<00:00,  2.29s/it]\n"
     ]
    },
    {
     "name": "stdout",
     "output_type": "stream",
     "text": [
      "Epoch 6 F1: 0.3987\n"
     ]
    },
    {
     "name": "stderr",
     "output_type": "stream",
     "text": [
      "Epoch 7: 100%|████████████████████████████████| 117/117 [04:51<00:00,  2.49s/it]\n"
     ]
    },
    {
     "name": "stdout",
     "output_type": "stream",
     "text": [
      "Epoch 7 F1: 0.4462\n"
     ]
    },
    {
     "name": "stderr",
     "output_type": "stream",
     "text": [
      "Epoch 8: 100%|████████████████████████████████| 117/117 [04:22<00:00,  2.24s/it]\n"
     ]
    },
    {
     "name": "stdout",
     "output_type": "stream",
     "text": [
      "Epoch 8 F1: 0.4774\n"
     ]
    },
    {
     "name": "stderr",
     "output_type": "stream",
     "text": [
      "Epoch 9: 100%|████████████████████████████████| 117/117 [04:14<00:00,  2.18s/it]\n"
     ]
    },
    {
     "name": "stdout",
     "output_type": "stream",
     "text": [
      "Epoch 9 F1: 0.4696\n"
     ]
    },
    {
     "name": "stderr",
     "output_type": "stream",
     "text": [
      "Epoch 10: 100%|███████████████████████████████| 117/117 [04:09<00:00,  2.13s/it]\n"
     ]
    },
    {
     "name": "stdout",
     "output_type": "stream",
     "text": [
      "Epoch 10 F1: 0.4718\n"
     ]
    },
    {
     "name": "stderr",
     "output_type": "stream",
     "text": [
      "Epoch 11: 100%|███████████████████████████████| 117/117 [05:10<00:00,  2.65s/it]\n"
     ]
    },
    {
     "name": "stdout",
     "output_type": "stream",
     "text": [
      "Epoch 11 F1: 0.4616\n"
     ]
    },
    {
     "name": "stderr",
     "output_type": "stream",
     "text": [
      "Epoch 12: 100%|███████████████████████████████| 117/117 [05:36<00:00,  2.88s/it]\n"
     ]
    },
    {
     "name": "stdout",
     "output_type": "stream",
     "text": [
      "Epoch 12 F1: 0.4709\n"
     ]
    },
    {
     "name": "stderr",
     "output_type": "stream",
     "text": [
      "Epoch 13: 100%|███████████████████████████████| 117/117 [05:35<00:00,  2.87s/it]\n"
     ]
    },
    {
     "name": "stdout",
     "output_type": "stream",
     "text": [
      "Epoch 13 F1: 0.4656\n"
     ]
    },
    {
     "name": "stderr",
     "output_type": "stream",
     "text": [
      "Epoch 14: 100%|███████████████████████████████| 117/117 [04:24<00:00,  2.26s/it]\n"
     ]
    },
    {
     "name": "stdout",
     "output_type": "stream",
     "text": [
      "Epoch 14 F1: 0.4708\n"
     ]
    },
    {
     "name": "stderr",
     "output_type": "stream",
     "text": [
      "Epoch 15: 100%|███████████████████████████████| 117/117 [04:58<00:00,  2.55s/it]\n"
     ]
    },
    {
     "name": "stdout",
     "output_type": "stream",
     "text": [
      "Epoch 15 F1: 0.4731\n"
     ]
    },
    {
     "name": "stderr",
     "output_type": "stream",
     "text": [
      "Epoch 16: 100%|███████████████████████████████| 117/117 [03:31<00:00,  1.81s/it]\n"
     ]
    },
    {
     "name": "stdout",
     "output_type": "stream",
     "text": [
      "Epoch 16 F1: 0.4673\n"
     ]
    },
    {
     "name": "stderr",
     "output_type": "stream",
     "text": [
      "Epoch 17: 100%|███████████████████████████████| 117/117 [02:49<00:00,  1.45s/it]\n"
     ]
    },
    {
     "name": "stdout",
     "output_type": "stream",
     "text": [
      "Epoch 17 F1: 0.4539\n"
     ]
    },
    {
     "name": "stderr",
     "output_type": "stream",
     "text": [
      "Epoch 18: 100%|███████████████████████████████| 117/117 [02:28<00:00,  1.27s/it]\n"
     ]
    },
    {
     "name": "stdout",
     "output_type": "stream",
     "text": [
      "Epoch 18 F1: 0.4554\n"
     ]
    },
    {
     "name": "stderr",
     "output_type": "stream",
     "text": [
      "Epoch 19: 100%|███████████████████████████████| 117/117 [02:32<00:00,  1.30s/it]\n"
     ]
    },
    {
     "name": "stdout",
     "output_type": "stream",
     "text": [
      "Epoch 19 F1: 0.4700\n"
     ]
    },
    {
     "name": "stderr",
     "output_type": "stream",
     "text": [
      "Epoch 20: 100%|███████████████████████████████| 117/117 [01:27<00:00,  1.34it/s]\n"
     ]
    },
    {
     "name": "stdout",
     "output_type": "stream",
     "text": [
      "Epoch 20 F1: 0.4772\n",
      "Best F1: 0.4774\n"
     ]
    }
   ],
   "source": [
    "history_cnn = train_model(cnn, \"cnn_balanced\", total_epochs=20)"
   ]
  },
  {
   "cell_type": "code",
   "execution_count": 23,
   "id": "3dda9c89-8fe9-4dba-bed8-2aaa8e8e1ebe",
   "metadata": {},
   "outputs": [
    {
     "name": "stdout",
     "output_type": "stream",
     "text": [
      "                 precision    recall  f1-score   support\n",
      "\n",
      "Government News       0.50      0.52      0.51       155\n",
      "    Middle-east       0.27      0.23      0.25       155\n",
      "           News       0.99      0.99      0.99       156\n",
      "        US_News       0.34      0.38      0.36       156\n",
      "      left-news       0.39      0.40      0.40       156\n",
      "       politics       0.36      0.35      0.36       156\n",
      "\n",
      "       accuracy                           0.48       934\n",
      "      macro avg       0.48      0.48      0.48       934\n",
      "   weighted avg       0.48      0.48      0.48       934\n",
      "\n",
      "Weighted F1-score: 0.4773991946364565\n"
     ]
    }
   ],
   "source": [
    "evaluate_model(cnn, \"cnn_balanced\")"
   ]
  },
  {
   "cell_type": "code",
   "execution_count": null,
   "id": "fbeacf3c-bbe7-4e39-94f2-177e67ead4d2",
   "metadata": {},
   "outputs": [],
   "source": [
    "#я пыталась добить до 0.8 но не вышло, линейная еще подавала надежду на первых попытках и доходила\n",
    "#до 0.65 но была очень нестабильной с сильными колебаниями метрик. \n",
    "# CNN показала себя более устойчивой, быстро набрав F1 ≈ 0.47, но выше не поднялась.\n",
    "#Я также старалась добиться равномерного качества по классам: провела балансировку классов, \n",
    "#анализировала macro и weighted F1. Однако по отдельным классам\n",
    "#особенно \"US_News\" и \"Government News\", \n",
    "#модель всё ещё даёт слабый результат.."
   ]
  }
 ],
 "metadata": {
  "kernelspec": {
   "display_name": "Python 3 (ipykernel)",
   "language": "python",
   "name": "python3"
  },
  "language_info": {
   "codemirror_mode": {
    "name": "ipython",
    "version": 3
   },
   "file_extension": ".py",
   "mimetype": "text/x-python",
   "name": "python",
   "nbconvert_exporter": "python",
   "pygments_lexer": "ipython3",
   "version": "3.12.4"
  }
 },
 "nbformat": 4,
 "nbformat_minor": 5
}
